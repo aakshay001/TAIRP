{
 "cells": [
  {
   "cell_type": "markdown",
   "metadata": {
    "id": "AoAxuAHs5L0H"
   },
   "source": [
    "# Tech-A-Intern Internship Program (TAIRP)\n",
    "\n",
    "## Project 1: Handwritten Digit Recogination\n",
    "\n",
    "### Akshay Saini"
   ]
  },
  {
   "cell_type": "markdown",
   "metadata": {
    "id": "fjXPI6VcNHS7"
   },
   "source": [
    "**Data Description**\n",
    "\n",
    "For Handwritten Digit Recogination, we will use the MNIST data which is a huge dataset containing handwritten digits. We don't have actual images rather we have its pixels.\n",
    "\n",
    "Since each image has $28 \\times 28$ pixels and each pixel form a feature. There are 784 features. These features are recorded in CSV files. One for the training a model and another for testing the model. The **pixel values** of each digit (image) comprise the features, and the actual number between 0 and 9 is the label.\n",
    "\n",
    "Here are the examples of the images of the handwritten used in the dataset.\n",
    "\n",
    "<center><img src = \"https://s3-whjr-v2-prod-bucket.whjr.online/359b49aa-47db-46f6-b4e7-7b3d8dc99f46.png\" width = 700></center>\n",
    "\n"
   ]
  },
  {
   "cell_type": "code",
   "execution_count": 1,
   "metadata": {
    "id": "XxTOqeUTNHS8"
   },
   "outputs": [],
   "source": [
    "# Import the libraries and load the CSV files.\n",
    "import numpy as np\n",
    "import pandas as pd\n",
    "import matplotlib.pyplot as plt\n",
    "import seaborn as sns\n",
    "\n",
    "train_csv_path = \"https://student-datasets-bucket.s3.ap-south-1.amazonaws.com/whitehat-ds-datasets/mnist-digits-recognition/train.csv\"\n",
    "test_csv_path = \"https://student-datasets-bucket.s3.ap-south-1.amazonaws.com/whitehat-ds-datasets/mnist-digits-recognition/test.csv\"\n",
    "train_df = pd.read_csv(train_csv_path) #reading the csv files using pandas\n",
    "test_df = pd.read_csv(test_csv_path)"
   ]
  },
  {
   "cell_type": "markdown",
   "metadata": {
    "id": "kvrGc_uV-Ce3"
   },
   "source": [
    "Now, get the information on both data frames."
   ]
  },
  {
   "cell_type": "code",
   "execution_count": 2,
   "metadata": {
    "colab": {
     "base_uri": "https://localhost:8080/"
    },
    "id": "c145tM8gNHTD",
    "outputId": "24f74de4-ebd3-47b9-91b8-a94bbbb08f39"
   },
   "outputs": [
    {
     "name": "stdout",
     "output_type": "stream",
     "text": [
      "<class 'pandas.core.frame.DataFrame'>\n",
      "RangeIndex: 19999 entries, 0 to 19998\n",
      "Columns: 785 entries, 6 to 0.590\n",
      "dtypes: int64(785)\n",
      "memory usage: 119.8 MB\n"
     ]
    }
   ],
   "source": [
    "# Get the information on the train dataset.\n",
    "train_df.info()"
   ]
  },
  {
   "cell_type": "markdown",
   "metadata": {
    "id": "CczlJz2o99q4"
   },
   "source": [
    "There are 42000 rows and 785 columns in the training dataset."
   ]
  },
  {
   "cell_type": "code",
   "execution_count": 3,
   "metadata": {
    "colab": {
     "base_uri": "https://localhost:8080/"
    },
    "id": "t7iuVqFC93zm",
    "outputId": "e296a82e-19ed-4dbb-d074-1d35e7f6ddb6"
   },
   "outputs": [
    {
     "name": "stdout",
     "output_type": "stream",
     "text": [
      "<class 'pandas.core.frame.DataFrame'>\n",
      "RangeIndex: 9999 entries, 0 to 9998\n",
      "Columns: 785 entries, 7 to 0.667\n",
      "dtypes: int64(785)\n",
      "memory usage: 59.9 MB\n"
     ]
    }
   ],
   "source": [
    "# Get the information on the test dataset.\n",
    "test_df.info()"
   ]
  },
  {
   "cell_type": "markdown",
   "metadata": {
    "id": "-4wf93Nf-Dsi"
   },
   "source": [
    "There are 28000 rows and 784 columns in the test dataset. This means we don't have the labels column for the test set."
   ]
  },
  {
   "cell_type": "code",
   "execution_count": 4,
   "metadata": {
    "colab": {
     "base_uri": "https://localhost:8080/"
    },
    "id": "rqHisQi4DHE8",
    "outputId": "824b8cd8-c09f-441b-8c23-e2c7fbb00133"
   },
   "outputs": [
    {
     "name": "stdout",
     "output_type": "stream",
     "text": [
      "Test set:\n",
      "----------------------------------------------------------------------------------------------------\n",
      "First five columns -> ['7', '0', '0.1', '0.2', '0.3']\n",
      "Last five columns -> ['0.663', '0.664', '0.665', '0.666', '0.667']\n",
      "\n",
      "Train set:\n",
      "----------------------------------------------------------------------------------------------------\n",
      "Five five columns -> ['6', '0', '0.1', '0.2', '0.3']\n",
      "Last five columns -> ['0.586', '0.587', '0.588', '0.589', '0.590']\n"
     ]
    }
   ],
   "source": [
    "# Print the first and last five columns of both the test and train datasets.\n",
    "print(f\"Test set:\\n{'-' * 100}\\nFirst five columns -> {list(test_df.columns[:5])}\\nLast five columns -> {list(test_df.columns[-5:])}\\n\")\n",
    "print(f\"Train set:\\n{'-' * 100}\\nFive five columns -> {list(train_df.columns[:5])}\\nLast five columns -> {list(train_df.columns[-5:])}\")"
   ]
  },
  {
   "cell_type": "markdown",
   "metadata": {
    "id": "jI6lJ4cTFkgk"
   },
   "source": [
    "As you can see, the train set has the `label` column but the test set doesn't.\n",
    "\n",
    "Now, let's print the first five rows of the data frame containing the train set."
   ]
  },
  {
   "cell_type": "code",
   "execution_count": 5,
   "metadata": {
    "colab": {
     "base_uri": "https://localhost:8080/",
     "height": 411
    },
    "id": "F92-YVA0NHTB",
    "outputId": "587feac1-0c5d-4909-97ee-e8e4728dd9b9"
   },
   "outputs": [
    {
     "data": {
      "text/html": [
       "<div>\n",
       "<style scoped>\n",
       "    .dataframe tbody tr th:only-of-type {\n",
       "        vertical-align: middle;\n",
       "    }\n",
       "\n",
       "    .dataframe tbody tr th {\n",
       "        vertical-align: top;\n",
       "    }\n",
       "\n",
       "    .dataframe thead th {\n",
       "        text-align: right;\n",
       "    }\n",
       "</style>\n",
       "<table border=\"1\" class=\"dataframe\">\n",
       "  <thead>\n",
       "    <tr style=\"text-align: right;\">\n",
       "      <th></th>\n",
       "      <th>6</th>\n",
       "      <th>0</th>\n",
       "      <th>0.1</th>\n",
       "      <th>0.2</th>\n",
       "      <th>0.3</th>\n",
       "      <th>0.4</th>\n",
       "      <th>0.5</th>\n",
       "      <th>0.6</th>\n",
       "      <th>0.7</th>\n",
       "      <th>0.8</th>\n",
       "      <th>...</th>\n",
       "      <th>0.581</th>\n",
       "      <th>0.582</th>\n",
       "      <th>0.583</th>\n",
       "      <th>0.584</th>\n",
       "      <th>0.585</th>\n",
       "      <th>0.586</th>\n",
       "      <th>0.587</th>\n",
       "      <th>0.588</th>\n",
       "      <th>0.589</th>\n",
       "      <th>0.590</th>\n",
       "    </tr>\n",
       "  </thead>\n",
       "  <tbody>\n",
       "    <tr>\n",
       "      <th>0</th>\n",
       "      <td>5</td>\n",
       "      <td>0</td>\n",
       "      <td>0</td>\n",
       "      <td>0</td>\n",
       "      <td>0</td>\n",
       "      <td>0</td>\n",
       "      <td>0</td>\n",
       "      <td>0</td>\n",
       "      <td>0</td>\n",
       "      <td>0</td>\n",
       "      <td>...</td>\n",
       "      <td>0</td>\n",
       "      <td>0</td>\n",
       "      <td>0</td>\n",
       "      <td>0</td>\n",
       "      <td>0</td>\n",
       "      <td>0</td>\n",
       "      <td>0</td>\n",
       "      <td>0</td>\n",
       "      <td>0</td>\n",
       "      <td>0</td>\n",
       "    </tr>\n",
       "    <tr>\n",
       "      <th>1</th>\n",
       "      <td>7</td>\n",
       "      <td>0</td>\n",
       "      <td>0</td>\n",
       "      <td>0</td>\n",
       "      <td>0</td>\n",
       "      <td>0</td>\n",
       "      <td>0</td>\n",
       "      <td>0</td>\n",
       "      <td>0</td>\n",
       "      <td>0</td>\n",
       "      <td>...</td>\n",
       "      <td>0</td>\n",
       "      <td>0</td>\n",
       "      <td>0</td>\n",
       "      <td>0</td>\n",
       "      <td>0</td>\n",
       "      <td>0</td>\n",
       "      <td>0</td>\n",
       "      <td>0</td>\n",
       "      <td>0</td>\n",
       "      <td>0</td>\n",
       "    </tr>\n",
       "    <tr>\n",
       "      <th>2</th>\n",
       "      <td>9</td>\n",
       "      <td>0</td>\n",
       "      <td>0</td>\n",
       "      <td>0</td>\n",
       "      <td>0</td>\n",
       "      <td>0</td>\n",
       "      <td>0</td>\n",
       "      <td>0</td>\n",
       "      <td>0</td>\n",
       "      <td>0</td>\n",
       "      <td>...</td>\n",
       "      <td>0</td>\n",
       "      <td>0</td>\n",
       "      <td>0</td>\n",
       "      <td>0</td>\n",
       "      <td>0</td>\n",
       "      <td>0</td>\n",
       "      <td>0</td>\n",
       "      <td>0</td>\n",
       "      <td>0</td>\n",
       "      <td>0</td>\n",
       "    </tr>\n",
       "    <tr>\n",
       "      <th>3</th>\n",
       "      <td>5</td>\n",
       "      <td>0</td>\n",
       "      <td>0</td>\n",
       "      <td>0</td>\n",
       "      <td>0</td>\n",
       "      <td>0</td>\n",
       "      <td>0</td>\n",
       "      <td>0</td>\n",
       "      <td>0</td>\n",
       "      <td>0</td>\n",
       "      <td>...</td>\n",
       "      <td>0</td>\n",
       "      <td>0</td>\n",
       "      <td>0</td>\n",
       "      <td>0</td>\n",
       "      <td>0</td>\n",
       "      <td>0</td>\n",
       "      <td>0</td>\n",
       "      <td>0</td>\n",
       "      <td>0</td>\n",
       "      <td>0</td>\n",
       "    </tr>\n",
       "    <tr>\n",
       "      <th>4</th>\n",
       "      <td>2</td>\n",
       "      <td>0</td>\n",
       "      <td>0</td>\n",
       "      <td>0</td>\n",
       "      <td>0</td>\n",
       "      <td>0</td>\n",
       "      <td>0</td>\n",
       "      <td>0</td>\n",
       "      <td>0</td>\n",
       "      <td>0</td>\n",
       "      <td>...</td>\n",
       "      <td>0</td>\n",
       "      <td>0</td>\n",
       "      <td>0</td>\n",
       "      <td>0</td>\n",
       "      <td>0</td>\n",
       "      <td>0</td>\n",
       "      <td>0</td>\n",
       "      <td>0</td>\n",
       "      <td>0</td>\n",
       "      <td>0</td>\n",
       "    </tr>\n",
       "    <tr>\n",
       "      <th>5</th>\n",
       "      <td>0</td>\n",
       "      <td>0</td>\n",
       "      <td>0</td>\n",
       "      <td>0</td>\n",
       "      <td>0</td>\n",
       "      <td>0</td>\n",
       "      <td>0</td>\n",
       "      <td>0</td>\n",
       "      <td>0</td>\n",
       "      <td>0</td>\n",
       "      <td>...</td>\n",
       "      <td>0</td>\n",
       "      <td>0</td>\n",
       "      <td>0</td>\n",
       "      <td>0</td>\n",
       "      <td>0</td>\n",
       "      <td>0</td>\n",
       "      <td>0</td>\n",
       "      <td>0</td>\n",
       "      <td>0</td>\n",
       "      <td>0</td>\n",
       "    </tr>\n",
       "    <tr>\n",
       "      <th>6</th>\n",
       "      <td>6</td>\n",
       "      <td>0</td>\n",
       "      <td>0</td>\n",
       "      <td>0</td>\n",
       "      <td>0</td>\n",
       "      <td>0</td>\n",
       "      <td>0</td>\n",
       "      <td>0</td>\n",
       "      <td>0</td>\n",
       "      <td>0</td>\n",
       "      <td>...</td>\n",
       "      <td>0</td>\n",
       "      <td>0</td>\n",
       "      <td>0</td>\n",
       "      <td>0</td>\n",
       "      <td>0</td>\n",
       "      <td>0</td>\n",
       "      <td>0</td>\n",
       "      <td>0</td>\n",
       "      <td>0</td>\n",
       "      <td>0</td>\n",
       "    </tr>\n",
       "    <tr>\n",
       "      <th>7</th>\n",
       "      <td>5</td>\n",
       "      <td>0</td>\n",
       "      <td>0</td>\n",
       "      <td>0</td>\n",
       "      <td>0</td>\n",
       "      <td>0</td>\n",
       "      <td>0</td>\n",
       "      <td>0</td>\n",
       "      <td>0</td>\n",
       "      <td>0</td>\n",
       "      <td>...</td>\n",
       "      <td>0</td>\n",
       "      <td>0</td>\n",
       "      <td>0</td>\n",
       "      <td>0</td>\n",
       "      <td>0</td>\n",
       "      <td>0</td>\n",
       "      <td>0</td>\n",
       "      <td>0</td>\n",
       "      <td>0</td>\n",
       "      <td>0</td>\n",
       "    </tr>\n",
       "    <tr>\n",
       "      <th>8</th>\n",
       "      <td>5</td>\n",
       "      <td>0</td>\n",
       "      <td>0</td>\n",
       "      <td>0</td>\n",
       "      <td>0</td>\n",
       "      <td>0</td>\n",
       "      <td>0</td>\n",
       "      <td>0</td>\n",
       "      <td>0</td>\n",
       "      <td>0</td>\n",
       "      <td>...</td>\n",
       "      <td>0</td>\n",
       "      <td>0</td>\n",
       "      <td>0</td>\n",
       "      <td>0</td>\n",
       "      <td>0</td>\n",
       "      <td>0</td>\n",
       "      <td>0</td>\n",
       "      <td>0</td>\n",
       "      <td>0</td>\n",
       "      <td>0</td>\n",
       "    </tr>\n",
       "    <tr>\n",
       "      <th>9</th>\n",
       "      <td>2</td>\n",
       "      <td>0</td>\n",
       "      <td>0</td>\n",
       "      <td>0</td>\n",
       "      <td>0</td>\n",
       "      <td>0</td>\n",
       "      <td>0</td>\n",
       "      <td>0</td>\n",
       "      <td>0</td>\n",
       "      <td>0</td>\n",
       "      <td>...</td>\n",
       "      <td>0</td>\n",
       "      <td>0</td>\n",
       "      <td>0</td>\n",
       "      <td>0</td>\n",
       "      <td>0</td>\n",
       "      <td>0</td>\n",
       "      <td>0</td>\n",
       "      <td>0</td>\n",
       "      <td>0</td>\n",
       "      <td>0</td>\n",
       "    </tr>\n",
       "  </tbody>\n",
       "</table>\n",
       "<p>10 rows × 785 columns</p>\n",
       "</div>"
      ],
      "text/plain": [
       "   6  0  0.1  0.2  0.3  0.4  0.5  0.6  0.7  0.8  ...  0.581  0.582  0.583  \\\n",
       "0  5  0    0    0    0    0    0    0    0    0  ...      0      0      0   \n",
       "1  7  0    0    0    0    0    0    0    0    0  ...      0      0      0   \n",
       "2  9  0    0    0    0    0    0    0    0    0  ...      0      0      0   \n",
       "3  5  0    0    0    0    0    0    0    0    0  ...      0      0      0   \n",
       "4  2  0    0    0    0    0    0    0    0    0  ...      0      0      0   \n",
       "5  0  0    0    0    0    0    0    0    0    0  ...      0      0      0   \n",
       "6  6  0    0    0    0    0    0    0    0    0  ...      0      0      0   \n",
       "7  5  0    0    0    0    0    0    0    0    0  ...      0      0      0   \n",
       "8  5  0    0    0    0    0    0    0    0    0  ...      0      0      0   \n",
       "9  2  0    0    0    0    0    0    0    0    0  ...      0      0      0   \n",
       "\n",
       "   0.584  0.585  0.586  0.587  0.588  0.589  0.590  \n",
       "0      0      0      0      0      0      0      0  \n",
       "1      0      0      0      0      0      0      0  \n",
       "2      0      0      0      0      0      0      0  \n",
       "3      0      0      0      0      0      0      0  \n",
       "4      0      0      0      0      0      0      0  \n",
       "5      0      0      0      0      0      0      0  \n",
       "6      0      0      0      0      0      0      0  \n",
       "7      0      0      0      0      0      0      0  \n",
       "8      0      0      0      0      0      0      0  \n",
       "9      0      0      0      0      0      0      0  \n",
       "\n",
       "[10 rows x 785 columns]"
      ]
     },
     "execution_count": 5,
     "metadata": {},
     "output_type": "execute_result"
    }
   ],
   "source": [
    "# Print the first ten rows of the data frame containing the train set.\n",
    "train_df.head(10) # printing first five columns of train_data"
   ]
  },
  {
   "cell_type": "markdown",
   "metadata": {
    "id": "F0wNQndPNHTC"
   },
   "source": [
    "As we can see:\n",
    "\n",
    "- The first row contains the pixel values of the image of the handwritten digit $1$.\n",
    "\n",
    "- Similarly, the second row contains the pixel values of the image of the handwritten digit $0$.\n",
    "\n",
    "- Similarly, the third row contains the pixel values of the image of the handwritten digit $1$.\n",
    "\n",
    "\n",
    "$$\\vdots$$\n",
    "\n",
    "- The $10^{\\text{th}}$ row contains the pixel values of the image of the handwritten digit $3$.\n",
    "\n",
    "Let's print the image of the digit $4$.\n"
   ]
  },
  {
   "cell_type": "code",
   "execution_count": 6,
   "metadata": {
    "colab": {
     "base_uri": "https://localhost:8080/",
     "height": 377
    },
    "id": "Uwt_m9_VNHTG",
    "outputId": "a631e811-1e5f-400a-864b-1c084e16a20c"
   },
   "outputs": [
    {
     "data": {
      "image/png": "[encoded data removed]",
      "text/plain": [
       "<Figure size 405x405 with 1 Axes>"
      ]
     },
     "metadata": {},
     "output_type": "display_data"
    }
   ],
   "source": [
    "# Display the image of the handwritten digit 4 from the train data frame.\n",
    "four_pixels = train_df.iloc[3, 1:]\n",
    "four_pixels = four_pixels.values.reshape(28, 28) # The 'values' attrtibute gets the values of the Pandas series in the form of a NumPy array.\n",
    "\n",
    "plt.figure(figsize = (5, 5), dpi = 81)\n",
    "plt.title(\"Handwritten Digit 4\", fontsize = 16)\n",
    "plt.imshow(four_pixels, cmap = 'gray', vmin = 0, vmax = 255)\n",
    "plt.show()"
   ]
  },
  {
   "cell_type": "markdown",
   "metadata": {
    "id": "DJS7ASwRVHAH"
   },
   "source": [
    "\n",
    "If we look at the axes of the above image, we can see that nearly the first four and last three rows are blank. Similarly, the first five and last five columns are blank which is denoted by the black colour. So let's print the rows 5 to 26 and columns 5 to 25 of the `four_pixel` NumPy array to see the pixel values of the image of the handwritten digit 4."
   ]
  },
  {
   "cell_type": "code",
   "execution_count": 7,
   "metadata": {
    "colab": {
     "base_uri": "https://localhost:8080/"
    },
    "id": "-Fkm4LOr8YJ8",
    "outputId": "85a0e6c6-ec5f-4424-dbb4-4616109fff94"
   },
   "outputs": [
    {
     "name": "stdout",
     "output_type": "stream",
     "text": [
      "[[  0   0   0   0   0   0   0   0   0   0   0   0  20 206 210   0   0   0]\n",
      " [  0   0   0   0   0   0   0   0   0   0  47 179 248 239 122   0   0   0]\n",
      " [  0   0   0   0  78 192 237 237 206 237 249 254 239 123   0   0   0   0]\n",
      " [  0   0   0  48 229 254 254 235 254 254 174 114  26   0   0   0   0   0]\n",
      " [  0   0   0 155 254 132  35  23  35  35   0   0   0   0   0   0   0   0]\n",
      " [  0   0   9 232 232  23   0   0   0   0   0   0   0   0   0   0   0   0]\n",
      " [  0   0 131 254 140   0  12  63  51  27   0   0   0   0   0   0   0   0]\n",
      " [  0   0 149 254 126  61 172 254 254 254 166  82  14   0   0   0   0   0]\n",
      " [  0   0 149 254 230 254 250 208 160 245 251 254 237 135  20   0   0   0]\n",
      " [  0   0 149 254 254 241  92   0   0   0  52 133 248 254 225  46   0   0]\n",
      " [  0   0 149 255 241  61   0   0   0   0   0   0  22 153 254 242  89   0]\n",
      " [  0   0  26 127  49   0   0   0   0   0   0   0   0  20 153 254 227   0]\n",
      " [  0   0   0   0   0   0   0   0   0   0   0   0   0   0  19 228 252  57]\n",
      " [  0   0   0   0   0   0   0   0   0   0   0   0   0   0   0 211 254  61]\n",
      " [  0   0   0   0   0   0   0   0   0   0   0   0   0   0   0 211 254  61]\n",
      " [  0   0   0   0   0   0   0   0   0   0   0   0   0   0  49 246 241  32]\n",
      " [  0   0   0  33 159 105   0   0   0   0   0   0   0  42 217 254 179   0]\n",
      " [  0   0  26 218 254  71   0   0   0   0   0  18 122 248 254 215  13   0]\n",
      " [  0   0  39 241 254 208  97  91  43 128 185 251 254 252 184  12   0   0]\n",
      " [  0   0   0  93 242 254 254 254 254 254 254 254 202  71   0   0   0   0]\n",
      " [  0   0   0   0   0   0   0   0   0   0   0   0   0   0   0   0   0   0]\n",
      " [  0   0   0   0   0   0   0   0   0   0   0   0   0   0   0   0   0   0]]\n"
     ]
    }
   ],
   "source": [
    "# Print the rows 5 to 26 and columns 5 to 25 of the 'four_pixel' NumPy array to see the pixel values of the image of the handwritten digit 4.\n",
    "print(four_pixels[4:-2, 5:-5])"
   ]
  },
  {
   "cell_type": "markdown",
   "metadata": {
    "id": "w3TY_397dH-E"
   },
   "source": [
    "From the above output, we can see the non-zero pixel values arranged in the pattern of digit 4.\n",
    "\n",
    "**It is to be noted that the pixel values for a grayscale image range from 0 to 255.**\n",
    "\n",
    "You can also look at the descriptive statistics for the first 10 images in the train data frame."
   ]
  },
  {
   "cell_type": "markdown",
   "metadata": {
    "id": "lH-Lm10wpYrc"
   },
   "source": [
    "---\n"
   ]
  },
  {
   "cell_type": "code",
   "execution_count": 8,
   "metadata": {
    "colab": {
     "base_uri": "https://localhost:8080/",
     "height": 474
    },
    "id": "4fx4w1v9pKFD",
    "outputId": "54b1a442-1d20-4e95-d3ad-003015842cb4"
   },
   "outputs": [
    {
     "ename": "KeyError",
     "evalue": "\"None of ['label'] are in the columns\"",
     "output_type": "error",
     "traceback": [
      "\u001b[1;31m---------------------------------------------------------------------------\u001b[0m",
      "\u001b[1;31mKeyError\u001b[0m                                  Traceback (most recent call last)",
      "Cell \u001b[1;32mIn[8], line 2\u001b[0m\n\u001b[0;32m      1\u001b[0m \u001b[38;5;66;03m# Set the indices of the 'train_df' data frame temporarily to the values in the 'label' column.\u001b[39;00m\n\u001b[1;32m----> 2\u001b[0m \u001b[43mtrain_df\u001b[49m\u001b[38;5;241;43m.\u001b[39;49m\u001b[43mset_index\u001b[49m\u001b[43m(\u001b[49m\u001b[38;5;124;43m'\u001b[39;49m\u001b[38;5;124;43mlabel\u001b[39;49m\u001b[38;5;124;43m'\u001b[39;49m\u001b[43m,\u001b[49m\u001b[43m \u001b[49m\u001b[43minplace\u001b[49m\u001b[43m \u001b[49m\u001b[38;5;241;43m=\u001b[39;49m\u001b[43m \u001b[49m\u001b[38;5;28;43;01mFalse\u001b[39;49;00m\u001b[43m)\u001b[49m\n",
      "File \u001b[1;32m~\\anaconda3\\lib\\site-packages\\pandas\\core\\frame.py:5859\u001b[0m, in \u001b[0;36mDataFrame.set_index\u001b[1;34m(self, keys, drop, append, inplace, verify_integrity)\u001b[0m\n\u001b[0;32m   5856\u001b[0m                 missing\u001b[38;5;241m.\u001b[39mappend(col)\n\u001b[0;32m   5858\u001b[0m \u001b[38;5;28;01mif\u001b[39;00m missing:\n\u001b[1;32m-> 5859\u001b[0m     \u001b[38;5;28;01mraise\u001b[39;00m \u001b[38;5;167;01mKeyError\u001b[39;00m(\u001b[38;5;124mf\u001b[39m\u001b[38;5;124m\"\u001b[39m\u001b[38;5;124mNone of \u001b[39m\u001b[38;5;132;01m{\u001b[39;00mmissing\u001b[38;5;132;01m}\u001b[39;00m\u001b[38;5;124m are in the columns\u001b[39m\u001b[38;5;124m\"\u001b[39m)\n\u001b[0;32m   5861\u001b[0m \u001b[38;5;28;01mif\u001b[39;00m inplace:\n\u001b[0;32m   5862\u001b[0m     frame \u001b[38;5;241m=\u001b[39m \u001b[38;5;28mself\u001b[39m\n",
      "\u001b[1;31mKeyError\u001b[0m: \"None of ['label'] are in the columns\""
     ]
    }
   ],
   "source": [
    "# Set the indices of the 'train_df' data frame temporarily to the values in the 'label' column.\n",
    "train_df.set_index('label', inplace = False)"
   ]
  },
  {
   "cell_type": "markdown",
   "metadata": {
    "id": "aD1y2c9E3kyX"
   },
   "source": [
    "As we can see, the indices of the `train_df` are the values of the `label` column. To verify whether the change is temporary, we can print the first five rows of the `train_df` data frame again.\n",
    "\n",
    "Now let's calculate the mean, std, min, quartiles and max values of the pixels of the first 10 images present in the `train_df` data frame."
   ]
  },
  {
   "cell_type": "code",
   "execution_count": null,
   "metadata": {
    "colab": {
     "base_uri": "https://localhost:8080/",
     "height": 299
    },
    "id": "V2LZoS7UoH-y",
    "outputId": "590b41fa-3f31-4126-cbd6-4b5380ea2de6"
   },
   "outputs": [],
   "source": [
    "# Print descriptive statistics for the pixel values of first 10 images in the train data frame.\n",
    "train_df.set_index('label').head(10).T.describe() # Setting the 'label' as index column from the data frame."
   ]
  },
  {
   "cell_type": "markdown",
   "metadata": {
    "id": "GVorLow2npMR"
   },
   "source": [
    "As we can see, the pixel values for a grayscale image goes from 0 to 255.\n",
    "\n",
    "Now, to practice the usage of the `imshow()` function, let's create an image of another handwritten digit, say $6$ from the pixel values of its image. For this, first, we will have to get the rows that contain the pixel values of the images of $6$.\n"
   ]
  },
  {
   "cell_type": "code",
   "execution_count": null,
   "metadata": {
    "colab": {
     "base_uri": "https://localhost:8080/",
     "height": 442
    },
    "id": "iNDod6jTnQ-7",
    "outputId": "872c9b56-4888-4fc0-c6bc-c98d30d9e43f"
   },
   "outputs": [],
   "source": [
    "# Create a data frame from the training data frame that contain the pixel values of the images of the digit 6.\n",
    "six_pixels_train_df = train_df.loc[train_df['label'] == 6, :]\n",
    "six_pixels_train_df"
   ]
  },
  {
   "cell_type": "markdown",
   "metadata": {
    "id": "nuRkZ85_otGS"
   },
   "source": [
    "Now, from the above data frame, let's create an image of the first instance of the image of digit $6$. Its index is 21."
   ]
  },
  {
   "cell_type": "code",
   "execution_count": null,
   "metadata": {
    "colab": {
     "base_uri": "https://localhost:8080/",
     "height": 377
    },
    "id": "6siXaz5Po3MU",
    "outputId": "d7635cdc-156b-46d8-8742-4dd477662c0f"
   },
   "outputs": [],
   "source": [
    "# Create an image from the pixel values of the image of the digit 6 that are stored in row 21.\n",
    "six_pixels = train_df.iloc[21, 1:]\n",
    "six_pixels = six_pixels.values.reshape(28, 28)\n",
    "\n",
    "plt.figure(figsize = (5, 5), dpi = 81)\n",
    "plt.title(\"Digit 6\", fontsize = 16)\n",
    "plt.imshow(six_pixels, cmap = \"gray\", vmin = 0, vmax = 255)\n",
    "plt.show()"
   ]
  },
  {
   "cell_type": "markdown",
   "metadata": {
    "id": "muTSTM1ZhtuJ"
   },
   "source": [
    "Now, let's print the part of the array containing the pixel values of the above image such that their arrangement resembles the digit 6."
   ]
  },
  {
   "cell_type": "code",
   "execution_count": null,
   "metadata": {
    "colab": {
     "base_uri": "https://localhost:8080/"
    },
    "id": "dNUpypU-hz3U",
    "outputId": "ffdea70e-fac7-4db3-fca7-fa7741dc49cb"
   },
   "outputs": [],
   "source": [
    "# S3.8: Print the rows 2 to 22 and columns 5 to 21 of the 'six_pixels' array.\n",
    "print(six_pixels[2:23, 5:22])"
   ]
  },
  {
   "cell_type": "markdown",
   "metadata": {
    "id": "QXDFdHH4UvdO"
   },
   "source": [
    "Now, for a machine learning algorithm (in this case, SVM), to correctly identify an image for a digit, it has to figure out the arrangement of pixel values for a digit on a 2D grid (in this case, $28 \\times 28$ grid).\n",
    "\n",
    "Knowing this, we can now build a machine learning model (in this case, SVM) to classify the images of different handwritten digits.\n"
   ]
  },
  {
   "cell_type": "markdown",
   "metadata": {
    "id": "-gPc2jucW2H5"
   },
   "source": [
    "#### Check for Data Imbalance\n",
    "\n",
    "Before building a classification model, let's check whether the training dataset is imbalanced or not."
   ]
  },
  {
   "cell_type": "code",
   "execution_count": null,
   "metadata": {
    "colab": {
     "base_uri": "https://localhost:8080/"
    },
    "id": "ULOdGX5ZWyY2",
    "outputId": "6e7c22ae-24c1-4df1-e103-6d50b9f7d0af"
   },
   "outputs": [],
   "source": [
    "# Find out the counts of records for each digit in the training dataset.\n",
    "train_df['label'].value_counts(dropna = False, normalize = True) * 100"
   ]
  },
  {
   "cell_type": "markdown",
   "metadata": {
    "id": "RQWjNtq_XohZ"
   },
   "source": [
    "**Note:**\n",
    "\n",
    "1. The `dropna = False` parameter counts the number of `NA` or `null` values if they are present in a Pandas series.\n",
    "\n",
    "2. The `normalize = True` parameter calculates the count of a value as the fraction of the total number of records.\n",
    "\n",
    "From the count of labels, we can see that the training dataset is balanced. Hence, we can now proceed to build a classification model."
   ]
  },
  {
   "cell_type": "markdown",
   "metadata": {
    "id": "BmsLe4Kn_jYk"
   },
   "source": [
    "---"
   ]
  },
  {
   "cell_type": "markdown",
   "metadata": {
    "id": "PfXom6ybtpoP"
   },
   "source": [
    "### Feature Scaling or Normalisation\n",
    "\n",
    "Now that we have ensured that there is no data imbalance, let's scale down the pixel values of each image because the support vector machines is sensitive the numeric data. Also, in the case of large values, the time taken to train an SVM model will be high.  \n",
    "\n",
    "So let's divide each pixel value for each image by 255 (the greatest pixel value for a grayscale image) to reduce the values between 0 and 1.\n",
    "\n"
   ]
  },
  {
   "cell_type": "code",
   "execution_count": null,
   "metadata": {
    "colab": {
     "base_uri": "https://localhost:8080/",
     "height": 348
    },
    "id": "P36ZejSR7T5T",
    "outputId": "c9078318-cbe7-4fc2-c1a5-f4756c7fee8e"
   },
   "outputs": [],
   "source": [
    "# Creating features and target data frames and divide each pixel for each image by 255.0\n",
    "features = train_df.iloc[:,1:]/255\n",
    "target = train_df[\"label\"]\n",
    "features.set_index(keys=target,inplace = False).T.describe()"
   ]
  },
  {
   "cell_type": "markdown",
   "metadata": {
    "id": "ZAnG78fcy1dz"
   },
   "source": [
    "As we can see, the maximum pixel value of all the images is 1 (or nearly 1) instead of 255 (or 254).\n",
    "\n"
   ]
  },
  {
   "cell_type": "markdown",
   "metadata": {
    "id": "sgiVqviTtosZ"
   },
   "source": [
    "---"
   ]
  },
  {
   "cell_type": "markdown",
   "metadata": {
    "id": "1bM6HKkESwoA"
   },
   "source": [
    "###  Model Building\n",
    "\n",
    "Let's build a preliminary SVM classification model to classify the images of digits.\n",
    "\n",
    "**Note:** Since there are 42000 training samples (or image samples or rows), the SVC model will take some time (about 4 to 6 minutes) to train.\n",
    "\n"
   ]
  },
  {
   "cell_type": "code",
   "execution_count": null,
   "metadata": {
    "colab": {
     "base_uri": "https://localhost:8080/"
    },
    "id": "7n47d4-uDULU",
    "outputId": "d333589d-0bef-46ca-c5ad-5a4f83d83c33"
   },
   "outputs": [],
   "source": [
    "# Building an SVC model with the linear kernel.\n",
    "from sklearn.svm import SVC\n",
    "svc = SVC(kernel = \"linear\")\n",
    "svc.fit(features,target)\n",
    "svc"
   ]
  },
  {
   "cell_type": "markdown",
   "metadata": {
    "id": "LhkvmeRB1XI9"
   },
   "source": [
    "Now that we have built a classification model using support vector machines, let's get the predicted digts and them compare the predicted values with the actual values.\n",
    "\n"
   ]
  },
  {
   "cell_type": "code",
   "execution_count": null,
   "metadata": {
    "colab": {
     "base_uri": "https://localhost:8080/"
    },
    "id": "P_NviSbx8Oxr",
    "outputId": "70a62c2d-2734-41e6-fac6-00c848bb3a1d"
   },
   "outputs": [],
   "source": [
    "# Predicting the target values for the training set.\n",
    "y_train_pred = svc.predict(features)\n",
    "y_train_pred"
   ]
  },
  {
   "cell_type": "markdown",
   "metadata": {
    "id": "ob1vzneug21d"
   },
   "source": [
    "Now let's create a confusion matrix to check for misclassification."
   ]
  },
  {
   "cell_type": "code",
   "execution_count": null,
   "metadata": {
    "colab": {
     "base_uri": "https://localhost:8080/",
     "height": 483
    },
    "id": "Cqptww02XdkW",
    "outputId": "3e3f1f6f-e894-41f7-a296-4b36f7c55345"
   },
   "outputs": [],
   "source": [
    "# Creating a confusion matrix to check for misclassification.\n",
    "from sklearn.metrics import classification_report, confusion_matrix\n",
    "plt.figure(figsize=(12,8))\n",
    "con_mat = confusion_matrix(target,y_train_pred)\n",
    "con_df = pd.DataFrame(con_mat)\n",
    "sns.heatmap(con_df,annot=True,fmt = \".6g\")\n",
    "plt.show()"
   ]
  },
  {
   "cell_type": "markdown",
   "metadata": {
    "id": "4_322oSVia_a"
   },
   "source": [
    "From the above confusion matrix, we can see that the count of the correct classification of all the digits is on the scale of $10^3$. Compared to them, misclassification counts are negligible.\n",
    "\n",
    "Let's print the precision, recall and f1-score values to further evaluate the efficacy of the model."
   ]
  },
  {
   "cell_type": "code",
   "execution_count": null,
   "metadata": {
    "colab": {
     "base_uri": "https://localhost:8080/"
    },
    "id": "gSIvj8jPi5Bk",
    "outputId": "a7dd9cff-e278-4342-91ad-60681a1d21a1"
   },
   "outputs": [],
   "source": [
    "# Printing the precision, recall and f1-score values to further evaluate the efficacy of the model.\n",
    "print(classification_report(target,y_train_pred))"
   ]
  },
  {
   "cell_type": "markdown",
   "metadata": {
    "id": "pTFQFMd6kaIr"
   },
   "source": [
    "The f1-scores for all the labels (or digits) are almost equal to 1. This implies that the SVC model built to classify digits is very accurate. So now let's predict the digits on the test set."
   ]
  },
  {
   "cell_type": "markdown",
   "metadata": {
    "id": "uRdACs5JiaG0"
   },
   "source": [
    "---"
   ]
  },
  {
   "cell_type": "markdown",
   "metadata": {
    "id": "r9bEVlz3kwFa"
   },
   "source": [
    "### Prediction on Test Set\n",
    "\n",
    "We already know that the test set does not have a label column. So don't need to separate the features and target variables. But we do need to normalise the features in the test set as well with the same technique used for the train set. Hence, we will divide each pixel value in the test set by 255.\n",
    "\n"
   ]
  },
  {
   "cell_type": "code",
   "execution_count": null,
   "metadata": {
    "colab": {
     "base_uri": "https://localhost:8080/",
     "height": 348
    },
    "id": "ctCL0aZ4lCZR",
    "outputId": "c1531b2f-d01c-4f1a-b8bc-3de8ba65fef4"
   },
   "outputs": [],
   "source": [
    "# Divide each pixel value in the test set by 255. Also, for each image pixels, print the minimum and maximum pixel values.\n",
    "feat_test = test_df/255\n",
    "feat_test.T.describe()"
   ]
  },
  {
   "cell_type": "markdown",
   "metadata": {
    "id": "Ujit202onW0V"
   },
   "source": [
    "Now let's predict the digits for the test set using the SVC model that we just built.\n",
    "\n",
    "**Note:** The code below may take 3 to 5 minutes to execute."
   ]
  },
  {
   "cell_type": "code",
   "execution_count": null,
   "metadata": {
    "colab": {
     "base_uri": "https://localhost:8080/"
    },
    "id": "m3TTgZHlnf1K",
    "outputId": "152dcccd-73a8-4504-f11c-0f3b0d2f7fa2"
   },
   "outputs": [],
   "source": [
    "# Predicting the digits for the test set using the SVC model built above.\n",
    "y_test_pred = pd.Series(svc.predict(feat_test))\n",
    "y_test_pred"
   ]
  },
  {
   "cell_type": "markdown",
   "metadata": {
    "id": "ezS5KovJoQTx"
   },
   "source": [
    "Now let's get the count of the predicted labels (or handwritten digits) to see their distribution."
   ]
  },
  {
   "cell_type": "code",
   "execution_count": null,
   "metadata": {
    "colab": {
     "base_uri": "https://localhost:8080/"
    },
    "id": "XvEcewVApAEZ",
    "outputId": "76fc84a0-3018-431e-968e-af27feda669c"
   },
   "outputs": [],
   "source": [
    "# Getting the count of the predicted labels (or handwritten digits) to see their distribution.\n",
    "y_test_pred.value_counts()"
   ]
  },
  {
   "cell_type": "markdown",
   "metadata": {
    "id": "mi9p6AxUptne"
   },
   "source": [
    "It seems that the handwritten digits in the test set are quite uniformly distributed."
   ]
  },
  {
   "cell_type": "markdown",
   "metadata": {
    "id": "YWigVx68SgMV"
   },
   "source": [
    "---"
   ]
  },
  {
   "cell_type": "markdown",
   "metadata": {
    "id": "g7SkeGSyqWNK"
   },
   "source": [
    "### Visualising Digits\n",
    "\n",
    "Let's now visualise at least one-one sample from each digit. But first, let's add a new column called `label` to the `test_df` data frame so that its values are the predicted labels (or digits). Make sure that the column is added to the column index = 0 location."
   ]
  },
  {
   "cell_type": "code",
   "execution_count": null,
   "metadata": {
    "id": "ZQxOdCWGqsE3"
   },
   "outputs": [],
   "source": [
    "# Adding 'label' at column index = 0 to the 'test_df' data frame so that its values are the predicted labels (or digits).\n",
    "test_df.insert(loc = 0, column=\"label\", value = y_test_pred)"
   ]
  },
  {
   "cell_type": "markdown",
   "metadata": {
    "id": "LbUKz3yW5tsd"
   },
   "source": [
    "Lets's display the first 5 rows of the modified `test_df` data frame."
   ]
  },
  {
   "cell_type": "code",
   "execution_count": null,
   "metadata": {
    "colab": {
     "base_uri": "https://localhost:8080/",
     "height": 255
    },
    "id": "-5Xkhl1Tr5X3",
    "outputId": "164fb5b6-fa6d-4f45-8400-233adf8bc677"
   },
   "outputs": [],
   "source": [
    "# Display the first 5 rows of the modified 'test_df' data frame.\n",
    "test_df.head()"
   ]
  },
  {
   "cell_type": "markdown",
   "metadata": {
    "id": "BjpsYRQU54Fu"
   },
   "source": [
    "Now let's group all the rows of the `test_df` data frame by the `label` column so that pixel values of images of a digit can be clubbed together and a sample of a digit can be retrieved easily later.\n",
    "\n"
   ]
  },
  {
   "cell_type": "code",
   "execution_count": null,
   "metadata": {
    "colab": {
     "base_uri": "https://localhost:8080/",
     "height": 442
    },
    "id": "uU6wgHgOsX1y",
    "outputId": "70ef1f80-ad04-48cc-c9ac-3c4ec1f09177"
   },
   "outputs": [],
   "source": [
    "# Group all the rows of the 'test_df' data frame by the 'label' column. Also, get a data frame containing pixel values of images of digit 0.\n",
    "group_test = test_df.groupby(by=\"label\")\n",
    "zeros_test_df = group_test.get_group(0)\n",
    "zeros_test_df"
   ]
  },
  {
   "cell_type": "markdown",
   "metadata": {
    "id": "r7_kj-rU6tzc"
   },
   "source": [
    "Now, let's create an image from the pixel values of one of the samples of digit 0."
   ]
  },
  {
   "cell_type": "code",
   "execution_count": null,
   "metadata": {
    "colab": {
     "base_uri": "https://localhost:8080/",
     "height": 483
    },
    "id": "ORWNXNeisrYY",
    "outputId": "a4bb3b0e-e2d9-448b-fc75-4b12fceefd3a"
   },
   "outputs": [],
   "source": [
    "# Create an image from the pixel values of one of the samples of digit 0.\n",
    "zeros_pixel = zeros_test_df.iloc[0,1:]\n",
    "zeros_pixel = zeros_pixel.values.reshape(28,28)\n",
    "\n",
    "plt.figure(figsize=(14,8))\n",
    "plt.imshow(zeros_pixel,cmap = \"gray\",vmin = 0,vmax = 255)\n",
    "plt.show()"
   ]
  },
  {
   "cell_type": "markdown",
   "metadata": {
    "id": "VfyPx4Prt3Bs"
   },
   "source": [
    "Indeed the predicted image is 0. Let's create an image of one of the sample images of digit three."
   ]
  },
  {
   "cell_type": "code",
   "execution_count": null,
   "metadata": {
    "colab": {
     "base_uri": "https://localhost:8080/",
     "height": 483
    },
    "id": "v322fEruuHC_",
    "outputId": "17460dd2-19d8-4c69-df9d-65c404328396"
   },
   "outputs": [],
   "source": [
    "# Get a data frame containing pixel values of all images of digit 3 from 'grouped_test_df' data frame.\n",
    "three_df = group_test.get_group(3)\n",
    "three_pixel = three_df.iloc[0,1:]\n",
    "three_pixel = three_pixel.values.reshape(28,28)\n"
   ]
  },
  {
   "cell_type": "markdown",
   "metadata": {
    "id": "M0DTdBqe8RqR"
   },
   "source": [
    "Now, let's create an image of one of the sample images of digit 3."
   ]
  },
  {
   "cell_type": "code",
   "execution_count": null,
   "metadata": {
    "id": "vhwhnTmmuQVO"
   },
   "outputs": [],
   "source": [
    "# Create an image of one of the sample images of digit 3.\n",
    "plt.figure(figsize=(14,8))\n",
    "plt.imshow(three_pixel,cmap = \"gray\",vmin = 0,vmax = 255)\n",
    "plt.show()"
   ]
  },
  {
   "cell_type": "code",
   "execution_count": null,
   "metadata": {
    "colab": {
     "base_uri": "https://localhost:8080/",
     "height": 1000
    },
    "id": "UkjAFa05vruY",
    "outputId": "33e5ad22-d0ee-4dbf-d965-9bdec2e2e333"
   },
   "outputs": [],
   "source": [
    "# Python function to visualise exactly one sample image of a digit that exists in the 'test_df' data frame. Also, create the images.\n",
    "def digit_pixel(digit_df,target,digit):\n",
    "  digit_pixel_df = digit_df.groupby(by=target)\n",
    "  digit_pixel_df = digit_pixel_df.get_group(digit)\n",
    "  digit_pixel = digit_pixel_df.iloc[0,1:]\n",
    "  digit_pixel = digit_pixel.values.reshape(28,28)\n",
    "  plt.figure(figsize=(14,8))\n",
    "  plt.imshow(digit_pixel,cmap = \"gray\",vmin = 0,vmax = 255)\n",
    "  plt.show()\n",
    "\n",
    "for digit in range(10):\n",
    "  digit_pixel(test_df,'label',digit)\n",
    "\n",
    "\n",
    "\n"
   ]
  },
  {
   "cell_type": "markdown",
   "metadata": {
    "id": "slGpHYkH-lLf"
   },
   "source": [
    "#### We have created images for one sample corresponding to each handwritten digit that exists in the `test_df` data frame.\n",
    "\n",
    "**Note:** A couple of images may be misclassified because the prediction model that we built using the linear kernel of support vector machines is not 100% accurate. Also, we are creating the image of the first sample of a digit that exists in the `test_df` data frame. It may not be necessarily predicted correctly.\n",
    "\n"
   ]
  },
  {
   "cell_type": "markdown",
   "metadata": {
    "id": "OV0-_DzDqVnO"
   },
   "source": [
    "----"
   ]
  }
 ],
 "metadata": {
  "colab": {
   "provenance": []
  },
  "kernelspec": {
   "display_name": "Python 3 (ipykernel)",
   "language": "python",
   "name": "python3"
  },
  "language_info": {
   "codemirror_mode": {
    "name": "ipython",
    "version": 3
   },
   "file_extension": ".py",
   "mimetype": "text/x-python",
   "name": "python",
   "nbconvert_exporter": "python",
   "pygments_lexer": "ipython3",
   "version": "3.10.9"
  }
 },
 "nbformat": 4,
 "nbformat_minor": 1
}
